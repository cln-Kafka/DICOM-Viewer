{
 "cells": [
  {
   "cell_type": "markdown",
   "metadata": {},
   "source": [
    "# Functions"
   ]
  },
  {
   "cell_type": "markdown",
   "metadata": {},
   "source": [
    "### Loading Data"
   ]
  },
  {
   "cell_type": "code",
   "execution_count": 1,
   "metadata": {},
   "outputs": [],
   "source": [
    "import SimpleITK as sitk\n",
    "import nibabel as nib\n",
    "import numpy as np\n",
    "import pydicom\n",
    "import os\n",
    "\n",
    "def load_image(filepath, format=None):\n",
    "    '''\n",
    "    Formats: [\"NIFTI\", \"MGH\", \"MHD\", \"NRRD\", \"AFNI\", \"DICOM\"] //str\n",
    "    '''\n",
    "    \n",
    "    ext = os.path.splitext(filepath)[-1].lower()\n",
    "    \n",
    "    if ext in [\".nii\", \".nii.gz\"] or format == \"NIFTI\":\n",
    "        nifti_image = nib.load(filepath)\n",
    "        return nifti_image.get_fdata(dtype=np.float32)\n",
    "    \n",
    "    if ext in [\".mgh\", \".mgz\"] or format == \"MGH\":\n",
    "        mgh_image = nib.load(filepath)\n",
    "        return mgh_image.get_fdata(dtype=np.float32)\n",
    "    \n",
    "    if ext == \".mhd\" or format == \"MHD\":\n",
    "        mhd_image = sitk.ReadImage(filepath)\n",
    "        return sitk.GetArrayFromImage(mhd_image).astype(np.float32)\n",
    "\n",
    "    if ext == \".nrrd\" or format == \"NRRD\":\n",
    "        nrrd_image = sitk.ReadImage(filepath)\n",
    "        return sitk.GetArrayFromImage(nrrd_image).astype(np.float32)\n",
    "    \n",
    "    if ext in [\".head\", \".brik\"] or format == \"AFNI\":\n",
    "        afni_image = nib.load(filepath)\n",
    "        return afni_image.get_fdata(dtype=np.float32)\n",
    "    \n",
    "    if ext == \".dcm\" or format == \"DICOM\" or os.path.isdir(filepath):\n",
    "        return load_dicom(filepath)\n",
    "    \n",
    "    raise ValueError(f\"Unsupported file format or file not recognized: {filepath}\")\n",
    "\n",
    "def load_dicom(filepath):\n",
    "    if os.path.isdir(filepath):\n",
    "        files = [os.path.join(filepath, f) for f in os.listdir(filepath) if f.endswith('.dcm')]\n",
    "        slices = [pydicom.dcmread(f) for f in sorted(files, key=lambda x: pydicom.dcmread(x).InstanceNumber)]\n",
    "        image_array = np.stack([s.pixel_array for s in slices], axis=0).astype(np.float32)\n",
    "    else:\n",
    "        dicom_image = pydicom.dcmread(filepath)\n",
    "        image_array = dicom_image.pixel_array.astype(np.float32)\n",
    "    return image_array\n"
   ]
  },
  {
   "cell_type": "code",
   "execution_count": 2,
   "metadata": {},
   "outputs": [],
   "source": [
    "from scipy.ndimage import gaussian_filter\n",
    "from scipy.ndimage import convolve\n",
    "import cv2\n",
    "\n",
    "# WINDOWING\n",
    "def apply_window(image, window_level=None, window_width=None):\n",
    "    min_val = np.min(image)\n",
    "    max_val = np.max(image)\n",
    "    \n",
    "    # If window_level and window_width are not provided, use dynamic values\n",
    "    if window_level is None:\n",
    "        window_level = (min_val + max_val) / 2  # Center of the intensity range\n",
    "    if window_width is None:\n",
    "        window_width = max_val - min_val  # Full range of the intensities\n",
    "    \n",
    "    # Calculate the windowing bounds\n",
    "    lower_bound = window_level - window_width / 2\n",
    "    upper_bound = window_level + window_width / 2\n",
    "    \n",
    "    # Clip the image to the windowing range\n",
    "    windowed_image = np.clip(image, lower_bound, upper_bound)\n",
    "    \n",
    "    # Normalize the image to the range [0, 1] for display purposes\n",
    "    windowed_image = (windowed_image - lower_bound) / (upper_bound - lower_bound)\n",
    "    \n",
    "    return windowed_image\n",
    "\n",
    "def smooth_image(image, sigma=1, strength = 1.0):\n",
    "    return gaussian_filter(image, sigma=sigma) * strength\n",
    "\n",
    "def sharpen_image(image, strength=1.0):\n",
    "    # Define the Laplacian kernel (3x3 in 3 channels)\n",
    "    laplacian_kernel = np.array([[[0, 0, 0],\n",
    "                                  [0, -1, 0],\n",
    "                                  [0, 0, 0]],\n",
    "                                 [[0, -1, 0],\n",
    "                                  [-1, 5 * strength, -1],\n",
    "                                  [0, -1, 0]],\n",
    "                                 [[0, 0, 0],\n",
    "                                  [0, -1, 0],\n",
    "                                  [0, 0, 0]]])\n",
    "\n",
    "    # Apply the convolution operation to sharpen the image\n",
    "    sharpened_image = convolve(image, laplacian_kernel)\n",
    "\n",
    "    return sharpened_image\n",
    "\n",
    "def reduce_noise(image, filter_type, size=3, sigma_color=0.05, sigma_spatial=15):\n",
    "    \"\"\"\n",
    "    Parameters:\n",
    "        image (numpy.ndarray): 3D image array.\n",
    "        filter_type (str): Type of noise reduction filter ('Median' or 'Bilateral').\n",
    "        size (int): Size of the median filter kernel (used for 'Median').\n",
    "        sigma_color (float): Range variance for bilateral filter (used for 'Bilateral').\n",
    "        sigma_spatial (float): Spatial variance for bilateral filter (used for 'Bilateral').\n",
    "    \"\"\"\n",
    "    filtered_image = image.copy()\n",
    "    \n",
    "    if filter_type == 'Median':\n",
    "        from scipy.ndimage import median_filter\n",
    "        filtered_image = median_filter(filtered_image, size=size)\n",
    "    elif filter_type == 'Bilateral':\n",
    "        from skimage.restoration import denoise_bilateral\n",
    "        filtered_image = denoise_bilateral(\n",
    "            filtered_image,\n",
    "            sigma_color=sigma_color,\n",
    "            sigma_spatial=sigma_spatial,\n",
    "            multichannel=False  # Assuming the image is grayscale or single-channel\n",
    "        )\n",
    "    else:\n",
    "        raise ValueError(f\"Unknown filter type: {filter_type}\")\n",
    "    \n",
    "    return filtered_image\n",
    "\n",
    "def normalize_image(image):\n",
    "    image = np.array(image, dtype=np.float32)\n",
    "    normalized_image = (image - np.min(image)) / (np.max(image) - np.min(image))\n",
    "    return normalized_image\n",
    "\n",
    "def high_pass_filter_cv(image, sigma=1.0, strength=1.0):\n",
    "    # Apply Gaussian blur using OpenCV\n",
    "    low_pass = cv2.GaussianBlur(image, (0, 0), sigma)\n",
    "    \n",
    "    # High-pass filtering by subtracting the blurred image\n",
    "    high_pass = image - low_pass\n",
    "    \n",
    "    # Apply strength factor and add it back to the original image\n",
    "    sharpened_image = image + (high_pass * strength)\n",
    "    return sharpened_image"
   ]
  },
  {
   "cell_type": "markdown",
   "metadata": {},
   "source": [
    "# Usage"
   ]
  },
  {
   "cell_type": "code",
   "execution_count": 6,
   "metadata": {},
   "outputs": [
    {
     "ename": "ValueError",
     "evalue": "Unsupported file format or file not recognized: ../assets/data/nifti/subject-01-flanker.nii.gz",
     "output_type": "error",
     "traceback": [
      "\u001b[1;31m---------------------------------------------------------------------------\u001b[0m",
      "\u001b[1;31mValueError\u001b[0m                                Traceback (most recent call last)",
      "Cell \u001b[1;32mIn[6], line 1\u001b[0m\n\u001b[1;32m----> 1\u001b[0m dicom_image \u001b[38;5;241m=\u001b[39m \u001b[43mload_image\u001b[49m\u001b[43m(\u001b[49m\u001b[38;5;124;43m\"\u001b[39;49m\u001b[38;5;124;43m../assets/data/nifti/subject-01-flanker.nii.gz\u001b[39;49m\u001b[38;5;124;43m\"\u001b[39;49m\u001b[43m,\u001b[49m\u001b[43m \u001b[49m\u001b[38;5;124;43m\"\u001b[39;49m\u001b[38;5;124;43m.nii\u001b[39;49m\u001b[38;5;124;43m\"\u001b[39;49m\u001b[43m)\u001b[49m\n\u001b[0;32m      2\u001b[0m image \u001b[38;5;241m=\u001b[39m dicom_image\n",
      "Cell \u001b[1;32mIn[1], line 37\u001b[0m, in \u001b[0;36mload_image\u001b[1;34m(filepath, format)\u001b[0m\n\u001b[0;32m     34\u001b[0m \u001b[38;5;28;01mif\u001b[39;00m ext \u001b[38;5;241m==\u001b[39m \u001b[38;5;124m\"\u001b[39m\u001b[38;5;124m.dcm\u001b[39m\u001b[38;5;124m\"\u001b[39m \u001b[38;5;129;01mor\u001b[39;00m \u001b[38;5;28mformat\u001b[39m \u001b[38;5;241m==\u001b[39m \u001b[38;5;124m\"\u001b[39m\u001b[38;5;124mDICOM\u001b[39m\u001b[38;5;124m\"\u001b[39m \u001b[38;5;129;01mor\u001b[39;00m os\u001b[38;5;241m.\u001b[39mpath\u001b[38;5;241m.\u001b[39misdir(filepath):\n\u001b[0;32m     35\u001b[0m     \u001b[38;5;28;01mreturn\u001b[39;00m load_dicom(filepath)\n\u001b[1;32m---> 37\u001b[0m \u001b[38;5;28;01mraise\u001b[39;00m \u001b[38;5;167;01mValueError\u001b[39;00m(\u001b[38;5;124mf\u001b[39m\u001b[38;5;124m\"\u001b[39m\u001b[38;5;124mUnsupported file format or file not recognized: \u001b[39m\u001b[38;5;132;01m{\u001b[39;00mfilepath\u001b[38;5;132;01m}\u001b[39;00m\u001b[38;5;124m\"\u001b[39m)\n",
      "\u001b[1;31mValueError\u001b[0m: Unsupported file format or file not recognized: ../assets/data/nifti/subject-01-flanker.nii.gz"
     ]
    }
   ],
   "source": [
    "dicom_image = load_image(\"../assets/data/nifti/subject-01-flanker.nii.gz\", \".nii\")\n",
    "image = dicom_image\n"
   ]
  },
  {
   "cell_type": "code",
   "execution_count": null,
   "metadata": {},
   "outputs": [],
   "source": [
    "min_val = np.min(image)\n",
    "max_val = np.max(image)\n",
    "print(min_val, max_val)"
   ]
  },
  {
   "cell_type": "code",
   "execution_count": null,
   "metadata": {},
   "outputs": [],
   "source": [
    "# Apply windowing\n",
    "windowed_image = apply_window(dicom_image, 2000, 2000)\n",
    "image = windowed_image"
   ]
  },
  {
   "cell_type": "code",
   "execution_count": null,
   "metadata": {},
   "outputs": [],
   "source": [
    "# Apply sharpening\n",
    "sharpened_image = sharpen_image(dicom_image, .8)\n",
    "image = sharpened_image"
   ]
  },
  {
   "cell_type": "code",
   "execution_count": null,
   "metadata": {},
   "outputs": [],
   "source": [
    "# Apply sharpening\n",
    "smoothed_image = smooth_image(dicom_image, 1, 2)\n",
    "image = smoothed_image"
   ]
  },
  {
   "cell_type": "code",
   "execution_count": null,
   "metadata": {},
   "outputs": [],
   "source": [
    "# Apply noise reduction\n",
    "smoothed_image = reduce_noise(dicom_image, 'Median')\n",
    "image = smoothed_image"
   ]
  },
  {
   "cell_type": "code",
   "execution_count": null,
   "metadata": {},
   "outputs": [],
   "source": [
    "import matplotlib.pyplot as plt\n",
    "\n",
    "plt.figure(figsize=(10, 10))\n",
    "plt.imshow(image[70], cmap='gray')\n",
    "plt.title(\"Enhanced Image\")\n",
    "plt.axis('off')\n",
    "plt.show()"
   ]
  }
 ],
 "metadata": {
  "kernelspec": {
   "display_name": "Python 3",
   "language": "python",
   "name": "python3"
  },
  "language_info": {
   "codemirror_mode": {
    "name": "ipython",
    "version": 3
   },
   "file_extension": ".py",
   "mimetype": "text/x-python",
   "name": "python",
   "nbconvert_exporter": "python",
   "pygments_lexer": "ipython3",
   "version": "3.11.8"
  }
 },
 "nbformat": 4,
 "nbformat_minor": 2
}
