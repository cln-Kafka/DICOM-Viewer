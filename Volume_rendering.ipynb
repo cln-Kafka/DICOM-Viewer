{
 "cells": [
  {
   "cell_type": "markdown",
   "metadata": {},
   "source": [
    "# Libraries Used"
   ]
  },
  {
   "cell_type": "code",
   "execution_count": 14,
   "metadata": {},
   "outputs": [],
   "source": [
    "import vtk\n",
    "import SimpleITK as sitk\n",
    "from vtk.util import numpy_support\n",
    "import numpy as np\n",
    "import os"
   ]
  },
  {
   "cell_type": "markdown",
   "metadata": {},
   "source": [
    "# Loading DICOM Files\n"
   ]
  },
  {
   "cell_type": "code",
   "execution_count": 37,
   "metadata": {},
   "outputs": [],
   "source": [
    "def load_dicom_series(directory):\n",
    "    \"\"\"\n",
    "    Load a DICOM series from a directory.\n",
    "    \"\"\"\n",
    "    reader = sitk.ImageSeriesReader()\n",
    "    dicom_files = reader.GetGDCMSeriesFileNames(directory)\n",
    "    reader.SetFileNames(dicom_files)\n",
    "    image = reader.Execute()\n",
    "    return sitk.GetArrayFromImage(image), image.GetSpacing()"
   ]
  },
  {
   "cell_type": "markdown",
   "metadata": {},
   "source": [
    "# Loading NIfTI Files\n"
   ]
  },
  {
   "cell_type": "code",
   "execution_count": 16,
   "metadata": {},
   "outputs": [],
   "source": [
    "def load_nifti_file(file_path):\n",
    "    \"\"\"\n",
    "    Load a NIfTI file.\n",
    "    \"\"\"\n",
    "    image = sitk.ReadImage(file_path)\n",
    "    return sitk.GetArrayFromImage(image), image.GetSpacing()"
   ]
  },
  {
   "cell_type": "markdown",
   "metadata": {},
   "source": [
    "# Loading Series Imgs\n"
   ]
  },
  {
   "cell_type": "code",
   "execution_count": 47,
   "metadata": {},
   "outputs": [],
   "source": [
    "def load_image_series(directory_or_file):\n",
    "    \"\"\"\n",
    "    Load either a DICOM series or NIfTI file based on input type.\n",
    "    \"\"\"\n",
    "    if os.path.isdir(directory_or_file):  # Directory implies DICOM series\n",
    "        return load_dicom_series(directory_or_file)\n",
    "    \n",
    "    elif directory_or_file.lower().endswith(('*.nii', '*.nii.gz')):  # NIfTI file\n",
    "        return load_nifti_file(directory_or_file)\n",
    "    else:\n",
    "        raise ValueError(\"Unsupported file type or directory\")"
   ]
  },
  {
   "cell_type": "markdown",
   "metadata": {},
   "source": [
    "# Create dynamic transfer functions\n"
   ]
  },
  {
   "cell_type": "code",
   "execution_count": 24,
   "metadata": {},
   "outputs": [],
   "source": [
    "def create_transfer_functions(volume_data):\n",
    "    \"\"\"\n",
    "    Create dynamic color and opacity transfer functions based on the intensity range of the data.\n",
    "    \"\"\"\n",
    "    # Compute the intensity range\n",
    "    min_intensity = np.min(volume_data)\n",
    "    max_intensity = np.max(volume_data)\n",
    "    mid_intensity = (min_intensity + max_intensity) / 2\n",
    "    # Create the color transfer function\n",
    "    color_transfer_function = vtk.vtkColorTransferFunction()\n",
    "    color_transfer_function.AddRGBPoint(min_intensity, 0.0, 0.0, 0.0)  # Black for low-intensity values\n",
    "    color_transfer_function.AddRGBPoint(mid_intensity, 0.9, 0.6, 0.5)  # Reddish/pink for mid-values\n",
    "    color_transfer_function.AddRGBPoint(max_intensity, 1.0, 1.0, 1.0)  # White for high-intensity values\n",
    "    # Create the opacity transfer function\n",
    "    opacity_transfer_function = vtk.vtkPiecewiseFunction()\n",
    "    opacity_transfer_function.AddPoint(min_intensity, 0.0)  # Fully transparent for low values\n",
    "    opacity_transfer_function.AddPoint(mid_intensity, 0.5)  # Semi-transparent for mid-values\n",
    "    opacity_transfer_function.AddPoint(max_intensity, 1.0)  # Fully opaque for high values\n",
    "\n",
    "    return color_transfer_function, opacity_transfer_function"
   ]
  },
  {
   "cell_type": "markdown",
   "metadata": {},
   "source": [
    "# Volume Rendering\n"
   ]
  },
  {
   "cell_type": "code",
   "execution_count": 25,
   "metadata": {},
   "outputs": [],
   "source": [
    "def create_volume_renderer(volume_data, spacing):\n",
    "    \"\"\"\n",
    "    Create a volume renderer using VTK for the given 3D volume data.\n",
    "    \"\"\"\n",
    "    # Convert the numpy array to a VTK image\n",
    "    vtk_image = vtk.vtkImageData()\n",
    "    depth_array = numpy_support.numpy_to_vtk(num_array=volume_data.ravel(), deep=True, array_type=vtk.VTK_FLOAT)\n",
    "    vtk_image.SetDimensions(volume_data.shape[::-1])\n",
    "    vtk_image.GetPointData().SetScalars(depth_array)\n",
    "    vtk_image.SetSpacing(spacing)\n",
    "    # Create the volume mapper\n",
    "    volume_mapper = vtk.vtkSmartVolumeMapper()\n",
    "    volume_mapper.SetInputData(vtk_image)\n",
    "    # Set the volume property\n",
    "    color_transfer_function = vtk.vtkColorTransferFunction()\n",
    "    opacity_transfer_function = vtk.vtkPiecewiseFunction()\n",
    "    volume_property = vtk.vtkVolumeProperty()\n",
    "    volume_property.SetColor(color_transfer_function)\n",
    "    volume_property.SetScalarOpacity(opacity_transfer_function)\n",
    "    volume_property.ShadeOn()  # Enable shading for realism\n",
    "    # Create the volume actor\n",
    "    volume = vtk.vtkVolume()\n",
    "    volume.SetMapper(volume_mapper)\n",
    "    volume.SetProperty(volume_property)\n",
    "    # Create the renderer and add the volume actor\n",
    "    renderer = vtk.vtkRenderer()\n",
    "    renderer.AddVolume(volume)\n",
    "    renderer.SetBackground(0.1, 0.1, 0.1)  # Dark gray background\n",
    "    renderer.ResetCamera()\n",
    "    # Set up the render window and interactor\n",
    "    render_window = vtk.vtkRenderWindow()\n",
    "    render_window.AddRenderer(renderer)\n",
    "    render_window.SetSize(800, 600)\n",
    "    render_interactor = vtk.vtkRenderWindowInteractor()\n",
    "    render_interactor.SetRenderWindow(render_window)\n",
    "\n",
    "    return render_window, render_interactor"
   ]
  },
  {
   "cell_type": "markdown",
   "metadata": {},
   "source": [
    "## Testing DICOM"
   ]
  },
  {
   "cell_type": "code",
   "execution_count": 38,
   "metadata": {},
   "outputs": [
    {
     "name": "stdout",
     "output_type": "stream",
     "text": [
      "Loading DICOM series...\n",
      "Setting up the volume renderer...\n",
      "Rendering volume...\n"
     ]
    }
   ],
   "source": [
    "dicom_directory = r'C:\\Study\\HIS 2\\DICOM-Viewer-Features\\series-000001'\n",
    "print(\"Loading DICOM series...\")\n",
    "volume_data, spacing = load_image_series(dicom_directory)\n",
    "print(\"Setting up the volume renderer...\")\n",
    "render_window, render_interactor = create_volume_renderer(volume_data, spacing)\n",
    "print(\"Rendering volume...\")\n",
    "render_window.Render()\n",
    "render_interactor.Start()"
   ]
  },
  {
   "cell_type": "markdown",
   "metadata": {},
   "source": [
    "## Testing NIfTI"
   ]
  },
  {
   "cell_type": "code",
   "execution_count": 48,
   "metadata": {},
   "outputs": [],
   "source": [
    "# dicom_directory = r'C:\\Study\\HIS 2\\DICOM-Viewer-Features\\NIFTI'\n",
    "# print(\"Loading NIfTI series...\")\n",
    "# volume_data, spacing = load_nifti_file(dicom_directory)\n",
    "# print(\"Setting up the volume renderer...\")\n",
    "# render_window, render_interactor = create_volume_renderer(volume_data, spacing)\n",
    "# print(\"Rendering volume...\")\n",
    "# render_window.Render()\n",
    "# render_interactor.Start()\n"
   ]
  }
 ],
 "metadata": {
  "kernelspec": {
   "display_name": "Python 3 (ipykernel)",
   "language": "python",
   "name": "python3"
  },
  "language_info": {
   "codemirror_mode": {
    "name": "ipython",
    "version": 3
   },
   "file_extension": ".py",
   "mimetype": "text/x-python",
   "name": "python",
   "nbconvert_exporter": "python",
   "pygments_lexer": "ipython3",
   "version": "3.9.13"
  }
 },
 "nbformat": 4,
 "nbformat_minor": 2
}
