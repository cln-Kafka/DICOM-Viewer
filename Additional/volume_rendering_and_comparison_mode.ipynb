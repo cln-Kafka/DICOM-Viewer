{
 "cells": [
  {
   "cell_type": "markdown",
   "metadata": {},
   "source": [
    "# Libraries Used"
   ]
  },
  {
   "cell_type": "code",
   "execution_count": 65,
   "metadata": {},
   "outputs": [],
   "source": [
    "import vtk\n",
    "import SimpleITK as sitk\n",
    "from vtk.util import numpy_support\n",
    "import numpy as np\n",
    "import os"
   ]
  },
  {
   "cell_type": "markdown",
   "metadata": {},
   "source": [
    "# Path Of Folder Carry Project\n"
   ]
  },
  {
   "cell_type": "code",
   "execution_count": 66,
   "metadata": {},
   "outputs": [],
   "source": [
    "os.chdir(r\"C:\\Study\\HIS 2\\DICOM-Viewer-Features\")\n"
   ]
  },
  {
   "cell_type": "markdown",
   "metadata": {},
   "source": [
    "# Loading DICOM Files\n"
   ]
  },
  {
   "cell_type": "code",
   "execution_count": 67,
   "metadata": {},
   "outputs": [],
   "source": [
    "def load_dicom_series(directory):\n",
    "    \"\"\"\n",
    "    Load a DICOM series from a directory.\n",
    "    \"\"\"\n",
    "    reader = sitk.ImageSeriesReader()\n",
    "    dicom_files = reader.GetGDCMSeriesFileNames(directory)\n",
    "    reader.SetFileNames(dicom_files)\n",
    "    image = reader.Execute()\n",
    "    return sitk.GetArrayFromImage(image), image.GetSpacing()"
   ]
  },
  {
   "cell_type": "markdown",
   "metadata": {},
   "source": [
    "# Loading NIfTI Files\n"
   ]
  },
  {
   "cell_type": "code",
   "execution_count": 68,
   "metadata": {},
   "outputs": [],
   "source": [
    "def load_nifti_file(file_path):\n",
    "    \"\"\"\n",
    "    Load a NIfTI file.\n",
    "    \"\"\"\n",
    "    image = sitk.ReadImage(file_path)\n",
    "    return sitk.GetArrayFromImage(image), image.GetSpacing()"
   ]
  },
  {
   "cell_type": "markdown",
   "metadata": {},
   "source": [
    "# Loading Series Imgs\n"
   ]
  },
  {
   "cell_type": "code",
   "execution_count": 69,
   "metadata": {},
   "outputs": [],
   "source": [
    "def load_image_series(directory_or_file):\n",
    "    \"\"\"\n",
    "    Load either a DICOM series or NIfTI file based on input type.\n",
    "    \"\"\"\n",
    "    if os.path.isdir(directory_or_file):  # Directory implies DICOM series\n",
    "        return load_dicom_series(directory_or_file)\n",
    "    \n",
    "    elif directory_or_file.lower().endswith(('*.nii', '*.nii.gz')):  # NIfTI file\n",
    "        return load_nifti_file(directory_or_file)\n",
    "    else:\n",
    "        raise ValueError(\"Unsupported file type or directory\")"
   ]
  },
  {
   "cell_type": "markdown",
   "metadata": {},
   "source": [
    "# Create dynamic transfer functions\n"
   ]
  },
  {
   "cell_type": "code",
   "execution_count": 70,
   "metadata": {},
   "outputs": [],
   "source": [
    "# Global variables to keep track of intensity values\n",
    "min_intensity = None\n",
    "max_intensity = None\n",
    "def update_transfer_functions(color_transfer_function, opacity_transfer_function):\n",
    "    global min_intensity, max_intensity\n",
    "    # delete previous points\n",
    "    color_transfer_function.RemoveAllPoints()\n",
    "    opacity_transfer_function.RemoveAllPoints()\n",
    "    # add new points for the updated intensity range\n",
    "    color_transfer_function.AddRGBPoint(min_intensity, 0.0, 0.0, 0.0)  # Black for low intensity\n",
    "    color_transfer_function.AddRGBPoint(max_intensity, 1.0, 1.0, 1.0)  # White for high intensity\n",
    "    # Define opacity function\n",
    "    opacity_transfer_function.AddPoint(min_intensity, 0.0)  # Fully transparent at min intensity\n",
    "    opacity_transfer_function.AddPoint(max_intensity, 1.0)  # Fully opaque at max intensity\n"
   ]
  },
  {
   "cell_type": "markdown",
   "metadata": {},
   "source": [
    "# Contrast Adjustment\n"
   ]
  },
  {
   "cell_type": "code",
   "execution_count": 71,
   "metadata": {},
   "outputs": [],
   "source": [
    "def adjust_contrast(interactor, color_transfer_function, opacity_transfer_function,render_window):   \n",
    "    global min_intensity, max_intensity\n",
    "    key = interactor.GetKeySym() #trace the pressed key \n",
    "    contrast_step = 0.05  # 5% step size for gradual change\n",
    "    if key == 'Right':\n",
    "        # inc contrast (narrow the intensity range)\n",
    "        min_intensity *= (1 - contrast_step)  # dec the min intensity by 5%\n",
    "        max_intensity *= (1 + contrast_step)  # inc the max intensity by 5%\n",
    "        update_transfer_functions(color_transfer_function, opacity_transfer_function)\n",
    "        render_window.Render()  # Force update of the render window\n",
    "        print(f\"Contrast increased: min={min_intensity}, max={max_intensity}\")\n",
    "    elif key == 'Left':\n",
    "        # dec contrast (widen the intensity range)\n",
    "        min_intensity *= (1 + contrast_step)  # inc the min intensity by 5%\n",
    "        max_intensity *= (1 - contrast_step)  # dec the max intensity by 5%\n",
    "        update_transfer_functions(color_transfer_function, opacity_transfer_function)\n",
    "        render_window.Render()  # Force update of the render window\n",
    "        print(f\"Contrast dec: min={min_intensity}, max={max_intensity}\")\n"
   ]
  },
  {
   "cell_type": "markdown",
   "metadata": {},
   "source": [
    "# Volume Rendering\n"
   ]
  },
  {
   "cell_type": "code",
   "execution_count": 82,
   "metadata": {},
   "outputs": [],
   "source": [
    "def create_volume_renderer(volume_data, spacing):\n",
    "    \"\"\"\n",
    "    Create a volume renderer using VTK for the given 3D volume data.\n",
    "    \"\"\"\n",
    "    # Convert the numpy array to a VTK image\n",
    "    vtk_image = vtk.vtkImageData()\n",
    "    depth_array = numpy_support.numpy_to_vtk(num_array=volume_data.ravel(), deep=True, array_type=vtk.VTK_FLOAT)\n",
    "    vtk_image.SetDimensions(volume_data.shape[::-1])\n",
    "    vtk_image.GetPointData().SetScalars(depth_array)\n",
    "    vtk_image.SetSpacing(spacing)\n",
    "    # Create the volume mapper\n",
    "    volume_mapper = vtk.vtkSmartVolumeMapper()\n",
    "    volume_mapper.SetInputData(vtk_image)\n",
    "    # Set the volume property\n",
    "    color_transfer_function = vtk.vtkColorTransferFunction()\n",
    "    opacity_transfer_function = vtk.vtkPiecewiseFunction()\n",
    "    volume_property = vtk.vtkVolumeProperty()\n",
    "    volume_property.SetColor(color_transfer_function)\n",
    "    volume_property.SetScalarOpacity(opacity_transfer_function)\n",
    "    volume_property.ShadeOn()  # Enable shading for realism\n",
    "    # Create the volume actor\n",
    "    volume = vtk.vtkVolume()\n",
    "    volume.SetMapper(volume_mapper)\n",
    "    volume.SetProperty(volume_property)\n",
    "    # Create the renderer and add the volume actor\n",
    "    renderer = vtk.vtkRenderer()\n",
    "    renderer.AddVolume(volume)\n",
    "    renderer.SetBackground(0.1, 0.1, 0.1)  # Dark gray background\n",
    "    renderer.ResetCamera()\n",
    "    # Set up the render window and interactor\n",
    "    render_window = vtk.vtkRenderWindow()\n",
    "    render_window.AddRenderer(renderer)\n",
    "    render_window.SetSize(800, 600)\n",
    "    render_interactor = vtk.vtkRenderWindowInteractor()\n",
    "    render_interactor.SetRenderWindow(render_window)\n",
    "    # Bind the contrast adjustment functionality\n",
    "    global min_intensity, max_intensity\n",
    "    min_intensity = np.min(volume_data)\n",
    "    max_intensity = np.max(volume_data)\n",
    "    render_interactor.AddObserver(\"KeyPressEvent\", lambda obj, event: adjust_contrast(obj,color_transfer_function,opacity_transfer_function,render_window))\n",
    "\n",
    "    return render_window, render_interactor,renderer"
   ]
  },
  {
   "cell_type": "markdown",
   "metadata": {},
   "source": [
    "## Testing DICOM"
   ]
  },
  {
   "cell_type": "code",
   "execution_count": null,
   "metadata": {},
   "outputs": [
    {
     "name": "stdout",
     "output_type": "stream",
     "text": [
      "Loading DICOM series...\n",
      "Setting up the volume renderer...\n",
      "Rendering volume...\n",
      "Contrast increased: min=-950.0, max=3095.4\n",
      "Contrast increased: min=-902.5, max=3250.17\n",
      "Contrast increased: min=-857.375, max=3412.6785000000004\n",
      "Contrast increased: min=-814.5062499999999, max=3583.3124250000005\n",
      "Contrast increased: min=-773.7809374999998, max=3762.4780462500007\n",
      "Contrast increased: min=-735.0918906249998, max=3950.601948562501\n",
      "Contrast increased: min=-698.3372960937497, max=4148.1320459906265\n",
      "Contrast increased: min=-663.4204312890622, max=4355.538648290158\n",
      "Contrast increased: min=-630.2494097246091, max=4573.315580704666\n",
      "Contrast dec: min=-661.7618802108395, max=4344.649801669432\n",
      "Contrast dec: min=-694.8499742213816, max=4127.41731158596\n",
      "Contrast dec: min=-729.5924729324506, max=3921.046446006662\n",
      "Contrast dec: min=-766.0720965790732, max=3724.9941237063285\n",
      "Contrast dec: min=-804.3757014080269, max=3538.744417521012\n",
      "Contrast dec: min=-844.5944864784283, max=3361.8071966449616\n",
      "Contrast dec: min=-886.8242108023497, max=3193.716836812713\n",
      "Contrast dec: min=-931.1654213424673, max=3034.030994972077\n",
      "Contrast dec: min=-977.7236924095907, max=2882.329445223473\n",
      "Contrast dec: min=-1026.6098770300703, max=2738.2129729622993\n",
      "Contrast dec: min=-1077.940370881574, max=2601.3023243141843\n",
      "Contrast dec: min=-1131.8373894256526, max=2471.237208098475\n",
      "Contrast dec: min=-1188.4292588969354, max=2347.6753476935514\n",
      "Contrast dec: min=-1247.8507218417822, max=2230.2915803088736\n",
      "Contrast dec: min=-1310.2432579338713, max=2118.7770012934297\n",
      "Contrast dec: min=-1375.7554208305648, max=2012.838151228758\n",
      "Contrast dec: min=-1444.543191872093, max=1912.19624366732\n",
      "Contrast dec: min=-1516.7703514656978, max=1816.586431483954\n"
     ]
    }
   ],
   "source": [
    "dicom_directory = r\"./series-000001\"\n",
    "print(\"Loading DICOM series...\")\n",
    "volume_data, spacing = load_image_series(dicom_directory)\n",
    "print(\"Setting up the volume renderer...\")\n",
    "render_window, render_interactor,_ = create_volume_renderer(volume_data, spacing)\n",
    "print(\"Rendering volume...\")\n",
    "render_window.Render()\n",
    "render_interactor.Start()"
   ]
  },
  {
   "cell_type": "markdown",
   "metadata": {},
   "source": [
    "## Testing NIfTI"
   ]
  },
  {
   "cell_type": "code",
   "execution_count": null,
   "metadata": {},
   "outputs": [
    {
     "name": "stdout",
     "output_type": "stream",
     "text": [
      "Loading NIfTI series...\n",
      "Setting up the volume renderer...\n",
      "Rendering volume...\n",
      "Contrast increased: min=0.0, max=1293.6000000000001\n",
      "Contrast increased: min=0.0, max=1358.2800000000002\n",
      "Contrast increased: min=0.0, max=1426.1940000000002\n",
      "Contrast increased: min=0.0, max=1497.5037000000002\n"
     ]
    }
   ],
   "source": [
    "nifti_directory = r\"./NIFTI/sub-C05_rec-2_T1w.nii.gz\"\n",
    "print(\"Loading NIfTI series...\")\n",
    "volume_data, spacing = load_nifti_file(nifti_directory)\n",
    "print(\"Setting up the volume renderer...\")\n",
    "render_window, render_interactor,_ = create_volume_renderer(volume_data, spacing)\n",
    "print(\"Rendering volume...\")\n",
    "render_window.Render()\n",
    "render_interactor.Start()\n"
   ]
  },
  {
   "cell_type": "markdown",
   "metadata": {},
   "source": [
    "# Comparison Mode"
   ]
  },
  {
   "cell_type": "code",
   "execution_count": null,
   "metadata": {},
   "outputs": [],
   "source": [
    "def create_comparison_mode_renderer(volume_data_1, volume_data_2, spacing_1, spacing_2):\n",
    "    _, _,renderer_1 = create_volume_renderer(volume_data_1, spacing_1)\n",
    "    _, _,renderer_2 = create_volume_renderer(volume_data_2, spacing_2)\n",
    "    render_window = vtk.vtkRenderWindow()\n",
    "    render_window.AddRenderer(renderer_1)\n",
    "    render_window.AddRenderer(renderer_2)\n",
    "    renderer_1.SetViewport(0.0, 0.0, 0.5, 1.0)  # left side\n",
    "    renderer_2.SetViewport(0.5, 0.0, 1.0, 1.0)  # right side\n",
    "    render_window.SetSize(1600, 800)\n",
    "    render_interactor = vtk.vtkRenderWindowInteractor()\n",
    "    render_interactor.SetRenderWindow(render_window)\n",
    "\n",
    "    return render_window, render_interactor"
   ]
  },
  {
   "cell_type": "markdown",
   "metadata": {},
   "source": [
    "# Testing Comparison Mode"
   ]
  },
  {
   "cell_type": "code",
   "execution_count": null,
   "metadata": {},
   "outputs": [],
   "source": [
    "dicom_directory_1 = r\"./series-000001\"  # CT \n",
    "dicom_directory_2 = r\"./series-000002\"  # MRI \n",
    "# DICOM series\n",
    "volume_data_1, spacing_1 = load_dicom_series(dicom_directory_1)\n",
    "volume_data_2, spacing_2 = load_dicom_series(dicom_directory_2)\n",
    "render_window, render_interactor = create_comparison_mode_renderer(volume_data_1, volume_data_2, spacing_1, spacing_2)\n",
    "render_window.Render()\n",
    "render_interactor.Start() "
   ]
  }
 ],
 "metadata": {
  "kernelspec": {
   "display_name": "Python 3 (ipykernel)",
   "language": "python",
   "name": "python3"
  },
  "language_info": {
   "codemirror_mode": {
    "name": "ipython",
    "version": 3
   },
   "file_extension": ".py",
   "mimetype": "text/x-python",
   "name": "python",
   "nbconvert_exporter": "python",
   "pygments_lexer": "ipython3",
   "version": "3.9.13"
  }
 },
 "nbformat": 4,
 "nbformat_minor": 2
}
