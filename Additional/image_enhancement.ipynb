{
 "cells": [
  {
   "cell_type": "markdown",
   "metadata": {},
   "source": [
    "# Functions"
   ]
  },
  {
   "cell_type": "markdown",
   "metadata": {},
   "source": [
    "### Loading Data"
   ]
  },
  {
   "cell_type": "code",
   "execution_count": 7,
   "metadata": {},
   "outputs": [],
   "source": [
    "import SimpleITK as sitk\n",
    "import nibabel as nib\n",
    "import numpy as np\n",
    "import pydicom\n",
    "import os\n",
    "import matplotlib.pyplot as plt\n",
    "\n",
    "def load_image(filepath, format=None):\n",
    "    '''\n",
    "    Formats: [\"NIFTI\", \"MGH\", \"MHD\", \"NRRD\", \"AFNI\", \"DICOM\"] //str\n",
    "    '''\n",
    "    \n",
    "    ext = os.path.splitext(filepath)[-1].lower()\n",
    "    \n",
    "    if ext in [\".nii\", \".nii.gz\"] or format == \"NIFTI\":\n",
    "        nifti_image = nib.load(filepath)\n",
    "        return nifti_image.get_fdata(dtype=np.float32)\n",
    "    \n",
    "    if ext in [\".mgh\", \".mgz\"] or format == \"MGH\":\n",
    "        mgh_image = nib.load(filepath)\n",
    "        return mgh_image.get_fdata(dtype=np.float32)\n",
    "    \n",
    "    if ext == \".mhd\" or format == \"MHD\":\n",
    "        mhd_image = sitk.ReadImage(filepath)\n",
    "        return sitk.GetArrayFromImage(mhd_image).astype(np.float32)\n",
    "\n",
    "    if ext == \".nrrd\" or format == \"NRRD\":\n",
    "        nrrd_image = sitk.ReadImage(filepath)\n",
    "        return sitk.GetArrayFromImage(nrrd_image).astype(np.float32)\n",
    "    \n",
    "    if ext in [\".head\", \".brik\"] or format == \"AFNI\":\n",
    "        afni_image = nib.load(filepath)\n",
    "        return afni_image.get_fdata(dtype=np.float32)\n",
    "    \n",
    "    if ext == \".dcm\" or format == \"DICOM\" or os.path.isdir(filepath):\n",
    "        return load_dicom(filepath)\n",
    "    \n",
    "    raise ValueError(f\"Unsupported file format or file not recognized: {filepath}\")\n",
    "\n",
    "def load_dicom(filepath):\n",
    "    if os.path.isdir(filepath):\n",
    "        files = [os.path.join(filepath, f) for f in os.listdir(filepath) if f.endswith('.dcm')]\n",
    "        slices = [pydicom.dcmread(f) for f in sorted(files, key=lambda x: pydicom.dcmread(x).InstanceNumber)]\n",
    "        image_array = np.stack([s.pixel_array for s in slices], axis=0).astype(np.float32)\n",
    "    else:\n",
    "        dicom_image = pydicom.dcmread(filepath)\n",
    "        image_array = dicom_image.pixel_array.astype(np.float32)\n",
    "    return image_array\n"
   ]
  },
  {
   "cell_type": "code",
   "execution_count": 8,
   "metadata": {},
   "outputs": [],
   "source": [
    "from scipy.ndimage import gaussian_filter\n",
    "from scipy.ndimage import convolve\n",
    "import cv2\n",
    "\n",
    "# WINDOWING\n",
    "def apply_window(image, window_level=None, window_width=None):\n",
    "    min_val = np.min(image)\n",
    "    max_val = np.max(image)\n",
    "    \n",
    "    # If window_level and window_width are not provided, use dynamic values\n",
    "    if window_level is None:\n",
    "        window_level = (min_val + max_val) / 2  # Center of the intensity range\n",
    "    if window_width is None:\n",
    "        window_width = max_val - min_val  # Full range of the intensities\n",
    "    \n",
    "    # Calculate the windowing bounds\n",
    "    lower_bound = window_level - window_width / 2\n",
    "    upper_bound = window_level + window_width / 2\n",
    "    \n",
    "    # Clip the image to the windowing range\n",
    "    windowed_image = np.clip(image, lower_bound, upper_bound)\n",
    "    \n",
    "    # Normalize the image to the range [0, 1] for display purposes\n",
    "    windowed_image = (windowed_image - lower_bound) / (upper_bound - lower_bound)\n",
    "    \n",
    "    return windowed_image\n",
    "\n",
    "def smooth_image(image, sigma=1, strength = 1.0):\n",
    "    return gaussian_filter(image, sigma=sigma) * strength\n",
    "\n",
    "def sharpen_image(image, strength=1.0):\n",
    "    # Define the Laplacian kernel (3x3 in 3 channels)\n",
    "    laplacian_kernel = np.array([[[0, 0, 0],\n",
    "                                  [0, -1, 0],\n",
    "                                  [0, 0, 0]],\n",
    "                                 [[0, -1, 0],\n",
    "                                  [-1, 5 * strength, -1],\n",
    "                                  [0, -1, 0]],\n",
    "                                 [[0, 0, 0],\n",
    "                                  [0, -1, 0],\n",
    "                                  [0, 0, 0]]])\n",
    "\n",
    "    # Apply the convolution operation to sharpen the image\n",
    "    sharpened_image = convolve(image, laplacian_kernel)\n",
    "\n",
    "    return sharpened_image\n",
    "\n",
    "def reduce_noise(image, filter_type, size=3, sigma_color=0.05, sigma_spatial=15):\n",
    "    \"\"\"\n",
    "    Parameters:\n",
    "        image (numpy.ndarray): 3D image array.\n",
    "        filter_type (str): Type of noise reduction filter ('Median' or 'Bilateral').\n",
    "        size (int): Size of the median filter kernel (used for 'Median').\n",
    "        sigma_color (float): Range variance for bilateral filter (used for 'Bilateral').\n",
    "        sigma_spatial (float): Spatial variance for bilateral filter (used for 'Bilateral').\n",
    "    \"\"\"\n",
    "    filtered_image = image.copy()\n",
    "    \n",
    "    if filter_type == 'Median':\n",
    "        from scipy.ndimage import median_filter\n",
    "        filtered_image = median_filter(filtered_image, size=size)\n",
    "    elif filter_type == 'Bilateral':\n",
    "        from skimage.restoration import denoise_bilateral\n",
    "        filtered_image = denoise_bilateral(\n",
    "            filtered_image,\n",
    "            sigma_color=sigma_color,\n",
    "            sigma_spatial=sigma_spatial,\n",
    "            multichannel=False  # Assuming the image is grayscale or single-channel\n",
    "        )\n",
    "    else:\n",
    "        raise ValueError(f\"Unknown filter type: {filter_type}\")\n",
    "    \n",
    "    return filtered_image\n",
    "\n",
    "def normalize_image(image):\n",
    "    image = np.array(image, dtype=np.float32)\n",
    "    normalized_image = (image - np.min(image)) / (np.max(image) - np.min(image))\n",
    "    return normalized_image\n",
    "\n",
    "def high_pass_filter_cv(image, sigma=1.0, strength=1.0):\n",
    "    # Apply Gaussian blur using OpenCV\n",
    "    low_pass = cv2.GaussianBlur(image, (0, 0), sigma)\n",
    "    \n",
    "    # High-pass filtering by subtracting the blurred image\n",
    "    high_pass = image - low_pass\n",
    "    \n",
    "    # Apply strength factor and add it back to the original image\n",
    "    sharpened_image = image + (high_pass * strength)\n",
    "    return sharpened_image"
   ]
  },
  {
   "cell_type": "markdown",
   "metadata": {},
   "source": [
    "# Usage"
   ]
  },
  {
   "cell_type": "code",
   "execution_count": 9,
   "metadata": {},
   "outputs": [
    {
     "ename": "RuntimeError",
     "evalue": "Unable to decompress 'JPEG Lossless, Non-Hierarchical, First-Order Prediction (Process 14 [Selection Value 1])' pixel data because all plugins are missing dependencies:\n\tgdcm - requires gdcm>=3.0.10\n\tpylibjpeg - requires pylibjpeg>=2.0 and pylibjpeg-libjpeg>=2.1",
     "output_type": "error",
     "traceback": [
      "\u001b[1;31m---------------------------------------------------------------------------\u001b[0m",
      "\u001b[1;31mRuntimeError\u001b[0m                              Traceback (most recent call last)",
      "Cell \u001b[1;32mIn[9], line 1\u001b[0m\n\u001b[1;32m----> 1\u001b[0m dicom_image \u001b[38;5;241m=\u001b[39m \u001b[43mload_image\u001b[49m\u001b[43m(\u001b[49m\u001b[38;5;124;43m\"\u001b[39;49m\u001b[38;5;124;43msample.dcm\u001b[39;49m\u001b[38;5;124;43m\"\u001b[39;49m\u001b[43m,\u001b[49m\u001b[43m \u001b[49m\u001b[38;5;124;43m\"\u001b[39;49m\u001b[38;5;124;43m.dcm\u001b[39;49m\u001b[38;5;124;43m\"\u001b[39;49m\u001b[43m)\u001b[49m\n\u001b[0;32m      2\u001b[0m image \u001b[38;5;241m=\u001b[39m dicom_image\n",
      "Cell \u001b[1;32mIn[7], line 36\u001b[0m, in \u001b[0;36mload_image\u001b[1;34m(filepath, format)\u001b[0m\n\u001b[0;32m     33\u001b[0m     \u001b[38;5;28;01mreturn\u001b[39;00m afni_image\u001b[38;5;241m.\u001b[39mget_fdata(dtype\u001b[38;5;241m=\u001b[39mnp\u001b[38;5;241m.\u001b[39mfloat32)\n\u001b[0;32m     35\u001b[0m \u001b[38;5;28;01mif\u001b[39;00m ext \u001b[38;5;241m==\u001b[39m \u001b[38;5;124m\"\u001b[39m\u001b[38;5;124m.dcm\u001b[39m\u001b[38;5;124m\"\u001b[39m \u001b[38;5;129;01mor\u001b[39;00m \u001b[38;5;28mformat\u001b[39m \u001b[38;5;241m==\u001b[39m \u001b[38;5;124m\"\u001b[39m\u001b[38;5;124mDICOM\u001b[39m\u001b[38;5;124m\"\u001b[39m \u001b[38;5;129;01mor\u001b[39;00m os\u001b[38;5;241m.\u001b[39mpath\u001b[38;5;241m.\u001b[39misdir(filepath):\n\u001b[1;32m---> 36\u001b[0m     \u001b[38;5;28;01mreturn\u001b[39;00m \u001b[43mload_dicom\u001b[49m\u001b[43m(\u001b[49m\u001b[43mfilepath\u001b[49m\u001b[43m)\u001b[49m\n\u001b[0;32m     38\u001b[0m \u001b[38;5;28;01mraise\u001b[39;00m \u001b[38;5;167;01mValueError\u001b[39;00m(\u001b[38;5;124mf\u001b[39m\u001b[38;5;124m\"\u001b[39m\u001b[38;5;124mUnsupported file format or file not recognized: \u001b[39m\u001b[38;5;132;01m{\u001b[39;00mfilepath\u001b[38;5;132;01m}\u001b[39;00m\u001b[38;5;124m\"\u001b[39m)\n",
      "Cell \u001b[1;32mIn[7], line 47\u001b[0m, in \u001b[0;36mload_dicom\u001b[1;34m(filepath)\u001b[0m\n\u001b[0;32m     45\u001b[0m \u001b[38;5;28;01melse\u001b[39;00m:\n\u001b[0;32m     46\u001b[0m     dicom_image \u001b[38;5;241m=\u001b[39m pydicom\u001b[38;5;241m.\u001b[39mdcmread(filepath)\n\u001b[1;32m---> 47\u001b[0m     image_array \u001b[38;5;241m=\u001b[39m \u001b[43mdicom_image\u001b[49m\u001b[38;5;241;43m.\u001b[39;49m\u001b[43mpixel_array\u001b[49m\u001b[38;5;241m.\u001b[39mastype(np\u001b[38;5;241m.\u001b[39mfloat32)\n\u001b[0;32m     48\u001b[0m \u001b[38;5;28;01mreturn\u001b[39;00m image_array\n",
      "File \u001b[1;32mc:\\Users\\Kareem\\AppData\\Local\\Programs\\Python\\Python311\\Lib\\site-packages\\pydicom\\dataset.py:2193\u001b[0m, in \u001b[0;36mDataset.pixel_array\u001b[1;34m(self)\u001b[0m\n\u001b[0;32m   2133\u001b[0m \u001b[38;5;129m@property\u001b[39m\n\u001b[0;32m   2134\u001b[0m \u001b[38;5;28;01mdef\u001b[39;00m \u001b[38;5;21mpixel_array\u001b[39m(\u001b[38;5;28mself\u001b[39m) \u001b[38;5;241m-\u001b[39m\u001b[38;5;241m>\u001b[39m \u001b[38;5;124m\"\u001b[39m\u001b[38;5;124mnumpy.ndarray\u001b[39m\u001b[38;5;124m\"\u001b[39m:\n\u001b[0;32m   2135\u001b[0m \u001b[38;5;250m    \u001b[39m\u001b[38;5;124;03m\"\"\"Return the pixel data as a :class:`numpy.ndarray`.\u001b[39;00m\n\u001b[0;32m   2136\u001b[0m \n\u001b[0;32m   2137\u001b[0m \u001b[38;5;124;03m    .. warning::\u001b[39;00m\n\u001b[1;32m   (...)\u001b[0m\n\u001b[0;32m   2191\u001b[0m \u001b[38;5;124;03m        that iterates through the image frames.\u001b[39;00m\n\u001b[0;32m   2192\u001b[0m \u001b[38;5;124;03m    \"\"\"\u001b[39;00m\n\u001b[1;32m-> 2193\u001b[0m     \u001b[38;5;28;43mself\u001b[39;49m\u001b[38;5;241;43m.\u001b[39;49m\u001b[43mconvert_pixel_data\u001b[49m\u001b[43m(\u001b[49m\u001b[43m)\u001b[49m\n\u001b[0;32m   2194\u001b[0m     \u001b[38;5;28;01mreturn\u001b[39;00m cast(\u001b[38;5;124m\"\u001b[39m\u001b[38;5;124mnumpy.ndarray\u001b[39m\u001b[38;5;124m\"\u001b[39m, \u001b[38;5;28mself\u001b[39m\u001b[38;5;241m.\u001b[39m_pixel_array)\n",
      "File \u001b[1;32mc:\\Users\\Kareem\\AppData\\Local\\Programs\\Python\\Python311\\Lib\\site-packages\\pydicom\\dataset.py:1726\u001b[0m, in \u001b[0;36mDataset.convert_pixel_data\u001b[1;34m(self, handler_name)\u001b[0m\n\u001b[0;32m   1723\u001b[0m \u001b[38;5;28;01mif\u001b[39;00m \u001b[38;5;129;01mnot\u001b[39;00m opts[\u001b[38;5;124m\"\u001b[39m\u001b[38;5;124muse_pdh\u001b[39m\u001b[38;5;124m\"\u001b[39m]:\n\u001b[0;32m   1724\u001b[0m     \u001b[38;5;66;03m# Use 'pydicom.pixels' backend\u001b[39;00m\n\u001b[0;32m   1725\u001b[0m     opts[\u001b[38;5;124m\"\u001b[39m\u001b[38;5;124mdecoding_plugin\u001b[39m\u001b[38;5;124m\"\u001b[39m] \u001b[38;5;241m=\u001b[39m name\n\u001b[1;32m-> 1726\u001b[0m     \u001b[38;5;28mself\u001b[39m\u001b[38;5;241m.\u001b[39m_pixel_array \u001b[38;5;241m=\u001b[39m \u001b[43mpixel_array\u001b[49m\u001b[43m(\u001b[49m\u001b[38;5;28;43mself\u001b[39;49m\u001b[43m,\u001b[49m\u001b[43m \u001b[49m\u001b[38;5;241;43m*\u001b[39;49m\u001b[38;5;241;43m*\u001b[39;49m\u001b[43mopts\u001b[49m\u001b[43m)\u001b[49m\n\u001b[0;32m   1727\u001b[0m     \u001b[38;5;28mself\u001b[39m\u001b[38;5;241m.\u001b[39m_pixel_id \u001b[38;5;241m=\u001b[39m get_image_pixel_ids(\u001b[38;5;28mself\u001b[39m)\n\u001b[0;32m   1728\u001b[0m \u001b[38;5;28;01melse\u001b[39;00m:\n\u001b[0;32m   1729\u001b[0m     \u001b[38;5;66;03m# Use 'pydicom.pixel_data_handlers' backend\u001b[39;00m\n",
      "File \u001b[1;32mc:\\Users\\Kareem\\AppData\\Local\\Programs\\Python\\Python311\\Lib\\site-packages\\pydicom\\pixels\\utils.py:1430\u001b[0m, in \u001b[0;36mpixel_array\u001b[1;34m(src, ds_out, specific_tags, index, raw, decoding_plugin, **kwargs)\u001b[0m\n\u001b[0;32m   1424\u001b[0m         \u001b[38;5;28;01mraise\u001b[39;00m \u001b[38;5;167;01mNotImplementedError\u001b[39;00m(\n\u001b[0;32m   1425\u001b[0m             \u001b[38;5;124m\"\u001b[39m\u001b[38;5;124mUnable to decode the pixel data as a (0002,0010) \u001b[39m\u001b[38;5;124m'\u001b[39m\u001b[38;5;124mTransfer Syntax \u001b[39m\u001b[38;5;124m\"\u001b[39m\n\u001b[0;32m   1426\u001b[0m             \u001b[38;5;124mf\u001b[39m\u001b[38;5;124m\"\u001b[39m\u001b[38;5;124mUID\u001b[39m\u001b[38;5;124m'\u001b[39m\u001b[38;5;124m value of \u001b[39m\u001b[38;5;124m'\u001b[39m\u001b[38;5;132;01m{\u001b[39;00mtsyntax\u001b[38;5;241m.\u001b[39mname\u001b[38;5;132;01m}\u001b[39;00m\u001b[38;5;124m'\u001b[39m\u001b[38;5;124m is not supported\u001b[39m\u001b[38;5;124m\"\u001b[39m\n\u001b[0;32m   1427\u001b[0m         )\n\u001b[0;32m   1429\u001b[0m     opts \u001b[38;5;241m=\u001b[39m as_pixel_options(ds, \u001b[38;5;241m*\u001b[39m\u001b[38;5;241m*\u001b[39mkwargs)\n\u001b[1;32m-> 1430\u001b[0m     \u001b[38;5;28;01mreturn\u001b[39;00m \u001b[43mdecoder\u001b[49m\u001b[38;5;241;43m.\u001b[39;49m\u001b[43mas_array\u001b[49m\u001b[43m(\u001b[49m\n\u001b[0;32m   1431\u001b[0m \u001b[43m        \u001b[49m\u001b[43mds\u001b[49m\u001b[43m,\u001b[49m\n\u001b[0;32m   1432\u001b[0m \u001b[43m        \u001b[49m\u001b[43mindex\u001b[49m\u001b[38;5;241;43m=\u001b[39;49m\u001b[43mindex\u001b[49m\u001b[43m,\u001b[49m\n\u001b[0;32m   1433\u001b[0m \u001b[43m        \u001b[49m\u001b[43mvalidate\u001b[49m\u001b[38;5;241;43m=\u001b[39;49m\u001b[38;5;28;43;01mTrue\u001b[39;49;00m\u001b[43m,\u001b[49m\n\u001b[0;32m   1434\u001b[0m \u001b[43m        \u001b[49m\u001b[43mraw\u001b[49m\u001b[38;5;241;43m=\u001b[39;49m\u001b[43mraw\u001b[49m\u001b[43m,\u001b[49m\n\u001b[0;32m   1435\u001b[0m \u001b[43m        \u001b[49m\u001b[43mdecoding_plugin\u001b[49m\u001b[38;5;241;43m=\u001b[39;49m\u001b[43mdecoding_plugin\u001b[49m\u001b[43m,\u001b[49m\n\u001b[0;32m   1436\u001b[0m \u001b[43m        \u001b[49m\u001b[38;5;241;43m*\u001b[39;49m\u001b[38;5;241;43m*\u001b[39;49m\u001b[43mopts\u001b[49m\u001b[43m,\u001b[49m\n\u001b[0;32m   1437\u001b[0m \u001b[43m    \u001b[49m\u001b[43m)\u001b[49m[\u001b[38;5;241m0\u001b[39m]\n\u001b[0;32m   1439\u001b[0m f: BinaryIO\n\u001b[0;32m   1440\u001b[0m \u001b[38;5;28;01mif\u001b[39;00m \u001b[38;5;129;01mnot\u001b[39;00m \u001b[38;5;28mhasattr\u001b[39m(src, \u001b[38;5;124m\"\u001b[39m\u001b[38;5;124mread\u001b[39m\u001b[38;5;124m\"\u001b[39m):\n",
      "File \u001b[1;32mc:\\Users\\Kareem\\AppData\\Local\\Programs\\Python\\Python311\\Lib\\site-packages\\pydicom\\pixels\\decoders\\base.py:982\u001b[0m, in \u001b[0;36mDecoder.as_array\u001b[1;34m(self, src, index, validate, raw, decoding_plugin, **kwargs)\u001b[0m\n\u001b[0;32m    977\u001b[0m runner\u001b[38;5;241m.\u001b[39mset_source(src)\n\u001b[0;32m    978\u001b[0m runner\u001b[38;5;241m.\u001b[39mset_options(\u001b[38;5;241m*\u001b[39m\u001b[38;5;241m*\u001b[39mkwargs)\n\u001b[0;32m    979\u001b[0m runner\u001b[38;5;241m.\u001b[39mset_decoders(\n\u001b[0;32m    980\u001b[0m     cast(\n\u001b[0;32m    981\u001b[0m         \u001b[38;5;28mdict\u001b[39m[\u001b[38;5;28mstr\u001b[39m, \u001b[38;5;124m\"\u001b[39m\u001b[38;5;124mDecodeFunction\u001b[39m\u001b[38;5;124m\"\u001b[39m],\n\u001b[1;32m--> 982\u001b[0m         \u001b[38;5;28;43mself\u001b[39;49m\u001b[38;5;241;43m.\u001b[39;49m\u001b[43m_validate_plugins\u001b[49m\u001b[43m(\u001b[49m\u001b[43mdecoding_plugin\u001b[49m\u001b[43m)\u001b[49m,\n\u001b[0;32m    983\u001b[0m     ),\n\u001b[0;32m    984\u001b[0m )\n\u001b[0;32m    986\u001b[0m \u001b[38;5;28;01mif\u001b[39;00m config\u001b[38;5;241m.\u001b[39mdebugging:\n\u001b[0;32m    987\u001b[0m     LOGGER\u001b[38;5;241m.\u001b[39mdebug(runner)\n",
      "File \u001b[1;32mc:\\Users\\Kareem\\AppData\\Local\\Programs\\Python\\Python311\\Lib\\site-packages\\pydicom\\pixels\\common.py:257\u001b[0m, in \u001b[0;36mCoderBase._validate_plugins\u001b[1;34m(self, plugin)\u001b[0m\n\u001b[0;32m    255\u001b[0m missing \u001b[38;5;241m=\u001b[39m \u001b[38;5;124m\"\u001b[39m\u001b[38;5;130;01m\\n\u001b[39;00m\u001b[38;5;124m\"\u001b[39m\u001b[38;5;241m.\u001b[39mjoin([\u001b[38;5;124mf\u001b[39m\u001b[38;5;124m\"\u001b[39m\u001b[38;5;130;01m\\t\u001b[39;00m\u001b[38;5;132;01m{\u001b[39;00ms\u001b[38;5;132;01m}\u001b[39;00m\u001b[38;5;124m\"\u001b[39m \u001b[38;5;28;01mfor\u001b[39;00m s \u001b[38;5;129;01min\u001b[39;00m \u001b[38;5;28mself\u001b[39m\u001b[38;5;241m.\u001b[39mmissing_dependencies])\n\u001b[0;32m    256\u001b[0m \u001b[38;5;28;01mif\u001b[39;00m \u001b[38;5;28mself\u001b[39m\u001b[38;5;241m.\u001b[39m_decoder:\n\u001b[1;32m--> 257\u001b[0m     \u001b[38;5;28;01mraise\u001b[39;00m \u001b[38;5;167;01mRuntimeError\u001b[39;00m(\n\u001b[0;32m    258\u001b[0m         \u001b[38;5;124mf\u001b[39m\u001b[38;5;124m\"\u001b[39m\u001b[38;5;124mUnable to decompress \u001b[39m\u001b[38;5;124m'\u001b[39m\u001b[38;5;132;01m{\u001b[39;00m\u001b[38;5;28mself\u001b[39m\u001b[38;5;241m.\u001b[39mUID\u001b[38;5;241m.\u001b[39mname\u001b[38;5;132;01m}\u001b[39;00m\u001b[38;5;124m'\u001b[39m\u001b[38;5;124m pixel data because all \u001b[39m\u001b[38;5;124m\"\u001b[39m\n\u001b[0;32m    259\u001b[0m         \u001b[38;5;124mf\u001b[39m\u001b[38;5;124m\"\u001b[39m\u001b[38;5;124mplugins are missing dependencies:\u001b[39m\u001b[38;5;130;01m\\n\u001b[39;00m\u001b[38;5;132;01m{\u001b[39;00mmissing\u001b[38;5;132;01m}\u001b[39;00m\u001b[38;5;124m\"\u001b[39m\n\u001b[0;32m    260\u001b[0m     )\n\u001b[0;32m    262\u001b[0m \u001b[38;5;28;01mraise\u001b[39;00m \u001b[38;5;167;01mRuntimeError\u001b[39;00m(\n\u001b[0;32m    263\u001b[0m     \u001b[38;5;124mf\u001b[39m\u001b[38;5;124m\"\u001b[39m\u001b[38;5;124mUnable to compress the pixel data using \u001b[39m\u001b[38;5;124m'\u001b[39m\u001b[38;5;132;01m{\u001b[39;00m\u001b[38;5;28mself\u001b[39m\u001b[38;5;241m.\u001b[39mUID\u001b[38;5;241m.\u001b[39mname\u001b[38;5;132;01m}\u001b[39;00m\u001b[38;5;124m'\u001b[39m\u001b[38;5;124m because all \u001b[39m\u001b[38;5;124m\"\u001b[39m\n\u001b[0;32m    264\u001b[0m     \u001b[38;5;124mf\u001b[39m\u001b[38;5;124m\"\u001b[39m\u001b[38;5;124mplugins are missing dependencies:\u001b[39m\u001b[38;5;130;01m\\n\u001b[39;00m\u001b[38;5;132;01m{\u001b[39;00mmissing\u001b[38;5;132;01m}\u001b[39;00m\u001b[38;5;124m\"\u001b[39m\n\u001b[0;32m    265\u001b[0m )\n",
      "\u001b[1;31mRuntimeError\u001b[0m: Unable to decompress 'JPEG Lossless, Non-Hierarchical, First-Order Prediction (Process 14 [Selection Value 1])' pixel data because all plugins are missing dependencies:\n\tgdcm - requires gdcm>=3.0.10\n\tpylibjpeg - requires pylibjpeg>=2.0 and pylibjpeg-libjpeg>=2.1"
     ]
    }
   ],
   "source": [
    "dicom_image = load_image(\"sample.dcm\", \".dcm\")\n",
    "image = dicom_image"
   ]
  },
  {
   "cell_type": "code",
   "execution_count": null,
   "metadata": {},
   "outputs": [],
   "source": [
    "min_val = np.min(image)\n",
    "max_val = np.max(image)\n",
    "print(min_val, max_val)"
   ]
  },
  {
   "cell_type": "code",
   "execution_count": null,
   "metadata": {},
   "outputs": [],
   "source": [
    "# Apply windowing\n",
    "windowed_image = apply_window(dicom_image, 2000, 2000)\n",
    "image = windowed_image"
   ]
  },
  {
   "cell_type": "code",
   "execution_count": null,
   "metadata": {},
   "outputs": [],
   "source": [
    "# Apply sharpening\n",
    "sharpened_image = sharpen_image(dicom_image, .8)\n",
    "image = sharpened_image"
   ]
  },
  {
   "cell_type": "code",
   "execution_count": null,
   "metadata": {},
   "outputs": [],
   "source": [
    "# Apply sharpening\n",
    "smoothed_image = smooth_image(dicom_image, 1, 2)\n",
    "image = smoothed_image"
   ]
  },
  {
   "cell_type": "code",
   "execution_count": null,
   "metadata": {},
   "outputs": [],
   "source": [
    "# Apply noise reduction\n",
    "smoothed_image = reduce_noise(dicom_image, 'Median')\n",
    "image = smoothed_image"
   ]
  },
  {
   "cell_type": "code",
   "execution_count": null,
   "metadata": {},
   "outputs": [],
   "source": [
    "plt.figure(figsize=(10, 10))\n",
    "plt.imshow(image[70], cmap='gray')\n",
    "plt.title(\"Enhanced Image\")\n",
    "plt.axis('off')\n",
    "plt.show()"
   ]
  }
 ],
 "metadata": {
  "kernelspec": {
   "display_name": "Python 3",
   "language": "python",
   "name": "python3"
  },
  "language_info": {
   "codemirror_mode": {
    "name": "ipython",
    "version": 3
   },
   "file_extension": ".py",
   "mimetype": "text/x-python",
   "name": "python",
   "nbconvert_exporter": "python",
   "pygments_lexer": "ipython3",
   "version": "3.11.8"
  }
 },
 "nbformat": 4,
 "nbformat_minor": 2
}
